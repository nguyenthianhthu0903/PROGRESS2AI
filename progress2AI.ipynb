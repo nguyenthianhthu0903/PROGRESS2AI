{
  "cells": [
    {
      "cell_type": "markdown",
      "metadata": {
        "id": "A_Z7q9MktQR0"
      },
      "source": [
        "Bước 1: Tạo một notebook mới trên Google Colab và chọn runtime là Python 3.\n",
        "\n",
        "Bước 2: Cài đặt thư viện python-sat bằng lệnh pip:"
      ]
    },
    {
      "cell_type": "markdown",
      "source": [
        "# Thư viện"
      ],
      "metadata": {
        "id": "Ni5onEr9Kelh"
      }
    },
    {
      "cell_type": "code",
      "execution_count": null,
      "metadata": {
        "colab": {
          "base_uri": "https://localhost:8080/"
        },
        "id": "TjmQNXVitJN-",
        "outputId": "1c6d1724-2cfb-453e-ba32-aa1ebbbf52a7"
      },
      "outputs": [
        {
          "name": "stdout",
          "output_type": "stream",
          "text": [
            "Looking in indexes: https://pypi.org/simple, https://us-python.pkg.dev/colab-wheels/public/simple/\n",
            "Requirement already satisfied: python-sat==0.1.7.dev12 in /usr/local/lib/python3.10/dist-packages (0.1.7.dev12)\n",
            "Requirement already satisfied: six in /usr/local/lib/python3.10/dist-packages (from python-sat==0.1.7.dev12) (1.16.0)\n",
            "Looking in indexes: https://pypi.org/simple, https://us-python.pkg.dev/colab-wheels/public/simple/\n",
            "Requirement already satisfied: pycosat in /usr/local/lib/python3.10/dist-packages (0.6.3)\n"
          ]
        }
      ],
      "source": [
        "!pip install python-sat==0.1.7.dev12\n",
        "!pip install pycosat"
      ]
    },
    {
      "cell_type": "markdown",
      "metadata": {
        "id": "itdJG3ETtVpV"
      },
      "source": [
        "Bước 3: Tạo file input.txt với định dạng như mô tả trong đề bài.\n",
        "\n",
        "Bước 4: Khai báo thư viện, đọc dữ liệu từ file input.txt và lưu vào biến matrix:"
      ]
    },
    {
      "cell_type": "markdown",
      "source": [
        "# CNF"
      ],
      "metadata": {
        "id": "XGJIrsPFKr00"
      }
    },
    {
      "cell_type": "code",
      "execution_count": null,
      "metadata": {
        "id": "8Yg4QqlSsuu-"
      },
      "outputs": [],
      "source": [
        "import itertools\n",
        "from pysat.solvers import Glucose3\n",
        "from pysat.formula import CNF\n",
        "import pycosat"
      ]
    },
    {
      "cell_type": "code",
      "execution_count": null,
      "metadata": {
        "id": "sCSr_nOjwWlz"
      },
      "outputs": [],
      "source": [
        "with open('/content/input.txt') as f:\n",
        "    m, n = map(int, f.readline().split())\n",
        "    # Đọc và xây dựng một ma trận gồm các số nguyên và None.\n",
        "    grid = [list(map(lambda x: int(x) if x != '.' else None, f.readline().split())) for _ in range(m)]"
      ]
    },
    {
      "cell_type": "code",
      "execution_count": null,
      "metadata": {
        "id": "UtBNzyI0wehj"
      },
      "outputs": [],
      "source": [
        "def get_variable_num(i, j, n):\n",
        "    # ánh xạ giá trị của từng ô \n",
        "    return i * n + j + 1\n",
        "\n",
        "def add_atmost(cnf, variables, k):\n",
        "    # Thêm một clause vào công thức CNF để thực thi ràng buộc \"at-most-k\" đối với một nhóm biến.\n",
        "    for combination in itertools.combinations(variables, k+1):\n",
        "        clause = [-x for x in combination]\n",
        "        cnf.append(clause)"
      ]
    },
    {
      "cell_type": "code",
      "execution_count": null,
      "metadata": {
        "id": "7Tun7zs6H7Ks"
      },
      "outputs": [],
      "source": [
        "def solve_matrix(matrix):\n",
        "    # Mã hoá dưới dạng công thức CNF và giải quyết nó bằng PicoSAT.\n",
        "    # Hàm lấy một ma trận làm đầu vào, trong đó mỗi ô là một số nguyên hoặc None (đại diện cho một ô trống)\n",
        "    # Và trả về một ma trận các giá trị Boolean đại diện cho giải pháp.\n",
        "    cnf = []\n",
        "    # Duyệt qua các phần tử trong ma trận và là số nguyên\n",
        "    for i in range(m):\n",
        "        for j in range(n):\n",
        "            if matrix[i][j] is not None:\n",
        "                # Tập hợp các ô neighbors là các ô ở vị trí kề cạnh hoặc đường chéo với ô hiện tại và không phải là những ô trống.\n",
        "                neighbors = [(i+di, j+dj) for di, dj in itertools.product([-1, 0, 1], repeat=2)\n",
        "                             if 0 <= (i+di) < m and 0 <= (j+dj) < n and matrix[i+di][j+dj] != '.']\n",
        "                # tạo ra các biến Boolean tương ứng với các ô láng giềng bằng cách sử dụng hàm get_variable_num(ni, nj, n).\n",
        "                green_vars = [get_variable_num(ni, nj, n)\n",
        "                              for ni, nj in neighbors]\n",
        "                # Đảm bảo không có quá nhiều ô neighbors được chọn.\n",
        "                # k là số ô được chọn cho ô hiện tại, và danh sách green_vars chính là tập hợp các biến Boolean đã được tạo ra cho các ô láng giềng.\n",
        "                add_atmost(cnf, green_vars, matrix[i][j])\n",
        "                # Đảm bảo không có quá ít ô láng giềng được chọn\n",
        "                # k là số ô được bỏ qua cho ô hiện tại, và danh sách biến green_vars là tập hợp các biến Boolean đã được tạo ra cho các ô láng giềng\n",
        "                # Lấy phủ đối của danh sách biến green_vars bằng cách đảo\n",
        "                add_atmost(cnf, [-x for x in green_vars],\n",
        "                           len(green_vars) - matrix[i][j])\n",
        "\n",
        "    # Trả về một giải pháp nếu nó tồn tại ở dạng danh sách các số nguyên đại diện cho các phép gán biến làm cho công thức trở thành đúng.\n",
        "    solution = pycosat.solve(cnf)\n",
        "\n",
        "    if solution != \"UNSAT\":\n",
        "        # Tạo kết quả danh sách kích thước m x ​​n với giá trị ban đầu là None.\n",
        "        result = [[None] * n for _ in range(m)]\n",
        "        # Sau đó, lặp lại từng phần tử trong kết quả và kiểm tra xem biến tương ứng có được gán True trong giải pháp hay không.\n",
        "        # Nếu đúng->  True, nếu không->  False. Danh sách kết quả kết quả được trả về.\n",
        "        for i in range(m):\n",
        "            for j in range(n):\n",
        "                var_num = get_variable_num(i, j, n)\n",
        "                if var_num in solution:\n",
        "                    result[i][j] = True\n",
        "                else:\n",
        "                    result[i][j] = False\n",
        "        return result\n",
        "    else:\n",
        "        return None\n"
      ]
    },
    {
      "cell_type": "markdown",
      "source": [
        "# Trả về True -> Xanh, False-> Đỏ"
      ],
      "metadata": {
        "id": "cAOaAIJ0K7X2"
      }
    },
    {
      "cell_type": "code",
      "execution_count": null,
      "metadata": {
        "colab": {
          "base_uri": "https://localhost:8080/"
        },
        "id": "Fo7q4ug-wyLX",
        "outputId": "1ec39271-36df-42fd-95f9-e4da8523444b"
      },
      "outputs": [
        {
          "name": "stdout",
          "output_type": "stream",
          "text": [
            "[[False, True, True, False, False, False, False, False, True, True], [False, False, False, True, False, False, False, True, True, True], [False, False, True, True, True, False, False, True, True, True], [False, True, True, False, True, True, False, True, False, False], [False, True, False, False, False, True, True, True, True, False], [True, True, False, False, True, True, False, False, True, True], [True, False, False, False, True, False, False, False, False, True], [True, False, False, False, True, False, False, False, False, True], [True, True, False, False, True, True, False, False, True, True], [False, True, True, True, True, True, True, True, True, False]]\n"
          ]
        }
      ],
      "source": [
        "output = solve_matrix(grid)\n",
        "print(output)"
      ]
    },
    {
      "cell_type": "markdown",
      "metadata": {
        "id": "uU0EJF771Llm"
      },
      "source": [
        "Biểu diễn ma trận đã tô màu dưới dạng hình ảnh"
      ]
    },
    {
      "cell_type": "markdown",
      "source": [
        "# Plot"
      ],
      "metadata": {
        "id": "BZdMPZxCLJDt"
      }
    },
    {
      "cell_type": "code",
      "execution_count": null,
      "metadata": {
        "colab": {
          "base_uri": "https://localhost:8080/",
          "height": 452
        },
        "id": "yFiwqnR1-1U-",
        "outputId": "378919b9-3c20-46b0-94e8-6e9225a5f56f"
      },
      "outputs": [
        {
          "data": {
            "image/png": "[encoded data removed]",
            "text/plain": [
              "<Figure size 640x480 with 1 Axes>"
            ]
          },
          "metadata": {},
          "output_type": "display_data"
        }
      ],
      "source": [
        "import numpy as np\n",
        "import matplotlib.pyplot as plt\n",
        "from matplotlib.colors import ListedColormap\n",
        "\n",
        "cmap = ListedColormap(['red', 'green'])\n",
        "fig, ax = plt.subplots()\n",
        "ax.imshow(output, cmap=cmap)\n",
        "\n",
        "ax.set_title('Output Data')\n",
        "\n",
        "for i in range(len(grid)):\n",
        "    for j in range(len(grid[0])):\n",
        "        if grid[j][i] is not None:\n",
        "            ax.text(i, j, str(grid[j][i]), color='w', fontsize=17, fontweight='bold', ha='right', va='center')\n",
        "\n",
        "plt.show()"
      ]
    }
  ],
  "metadata": {
    "accelerator": "GPU",
    "colab": {
      "provenance": []
    },
    "gpuClass": "standard",
    "kernelspec": {
      "display_name": "Python 3",
      "name": "python3"
    },
    "language_info": {
      "name": "python"
    }
  },
  "nbformat": 4,
  "nbformat_minor": 0
}